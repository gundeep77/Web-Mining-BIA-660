{
 "cells": [
  {
   "cell_type": "markdown",
   "metadata": {},
   "source": [
    "# <Center> Homework 5: Classification </center>"
   ]
  },
  {
   "cell_type": "markdown",
   "metadata": {},
   "source": [
    "This assignment needs the following two data files:\n",
    "- train.csv: dataset for training\n",
    "- test.csv: dataset for testing. \n",
    "    \n",
    "Both of them have samples in the following format. The `text` column contains documents and the `label` column gives the sentiment of each document.\n",
    "\n",
    "|label | text |\n",
    "|------|------|\n",
    "|1|  I must admit that I'm addicted to \"Version 2.0...|\n",
    "|0|  I think it's such a shame that an enormous tal...|\n",
    "|1|  The Sunsout No Room at The Inn Puzzle has oddl...|\n",
    "|...|...|\n"
   ]
  },
  {
   "cell_type": "markdown",
   "metadata": {},
   "source": [
    "## Q1 Classification\n",
    "\n",
    "- Define a function `create_model(train_docs, train_y, test_docs, test_y, model_type='svm', stop_words='english', min_df = 1, print_result = True, algorithm_para=1.0`), where\n",
    "\n",
    "    - `train_docs`: is a list of documents for training\n",
    "    - `train_y`: is the ground-truth labels of training documents\n",
    "    - `test_docs`: is a list of documents for test\n",
    "    - `test_y`: is the ground-truth labels of test documents\n",
    "    - `model_type`: two options: `nb` (Multinomial Naive Bayes) or `svm` (Linear SVM)\n",
    "    - `stop_words`: indicate whether stop words should be removed. The default value is 'english', i.e. remove English stopwords.\n",
    "    - `min_df`: only word with document frequency above this threshold can be included. The default is 1. \n",
    "    - `print_result`: controls whether to show classification report or plots. The default is True.\n",
    "    - `algorithm_para`: the hyperparameter of algorithms, refers to C in SVM and alpha in NB. Both C and alpha have default values of 1.0. Please check sklearn documentation here: https://scikit-learn.org/stable/modules/generated/sklearn.naive_bayes.MultinomialNB.html\n",
    "    https://scikit-learn.org/stable/modules/generated/sklearn.svm.LinearSVC.html\n",
    "\n",
    "\n",
    "- This function does the following:\n",
    "    - Fit a `TfidfVectorizer` using `train_docs` with options `stop_words, min_df` as specified in the function inputs. Extract features from `train_docs` using the fitted `TfidfVectorizer`.\n",
    "    - Build `linear SVM` or `Multinomial Naive Bayes` model as specified by `model_type` with `algorithm_para` setting. Train the model using the extracted features and `train_y`. \n",
    "    - Transform `test_docs` by the fitted `TfidfVectorizer` (hint: use function `transform` not `fit_transform`).\n",
    "    - Predict the labels for `test_docs`. If `print_result` is True, print the classification report.\n",
    "    - Calculate the AUC score and PRC score (or Average Precision) for class 1 on the test dataset. If `print_result` is True, plot the ROC and PRC curves. **Hint**: \n",
    "        - `sklearn.svm.LinearSVM` does not provide `predict_proba` function. \n",
    "        - Instead, you can use its `decision_function` (see <a href = \"https://stackoverflow.com/questions/59227176/how-to-plot-roc-and-calculate-auc-for-binary-classifier-with-no-probabilities-s\">some referenc code</a>) \n",
    "        - Another option is to use `sklearn.svm.SVC` with `kernel='linear' and probability=False` (see <a href = \"https://scikit-learn.org/stable/modules/generated/sklearn.svm.SVC.html\"> reference</a>)\n",
    "    - Return the AUC and PRC scores.\n",
    "\n",
    "    \n",
    "- Test your function with following cases:\n",
    "    - model_type='svm', stop_words = 'english', min_df = 1\n",
    "    - model_type='nb', stop_words = 'english', min_df = 1"
   ]
  },
  {
   "cell_type": "code",
   "execution_count": 1,
   "metadata": {},
   "outputs": [],
   "source": [
    "import pandas as pd\n",
    "from sklearn.feature_extraction.text import TfidfVectorizer\n",
    "from sklearn.naive_bayes import MultinomialNB\n",
    "from sklearn import svm\n",
    "from sklearn.metrics import precision_recall_fscore_support\n",
    "from sklearn.metrics import roc_curve, auc,precision_recall_curve\n",
    "from sklearn.metrics import classification_report\n",
    "from matplotlib import pyplot as plt\n",
    "from sklearn.pipeline import Pipeline\n",
    "from sklearn.model_selection import GridSearchCV\n",
    "import nltk\n",
    "from nltk.corpus import stopwords\n",
    "\n",
    "train = pd.read_csv(\"train5.csv\")\n",
    "test = pd.read_csv(\"test5.csv\")\n"
   ]
  },
  {
   "cell_type": "code",
   "execution_count": 2,
   "metadata": {},
   "outputs": [],
   "source": [
    "# Define the function for Task 1\n",
    "\n",
    "def create_model(train_docs, train_y, test_docs, test_y, model_type='svm', stop_words=None, min_df = 1, print_result = True, algorithm_para=1.0):\n",
    "\n",
    "\n",
    "    # add your code here    \n",
    "    tfidfvec = TfidfVectorizer(stop_words=stop_words, min_df=min_df)\n",
    "    trainX = tfidfvec.fit_transform(train_docs)\n",
    "    testX = tfidfvec.transform(test_docs)\n",
    "    \n",
    "    if model_type == 'nb':\n",
    "        myclassifier = MultinomialNB(alpha = algorithm_para)\n",
    "    elif model_type == 'svm':\n",
    "        myclassifier = svm.LinearSVC(C = algorithm_para)\n",
    "    else:\n",
    "        print(\"Invalid model type!\")\n",
    "\n",
    "    myclassifier.fit(trainX, train_y)\n",
    "    \n",
    "    predY = myclassifier.predict(testX)\n",
    "\n",
    "    if model_type == 'nb':\n",
    "        pred_probY = myclassifier.predict_proba(testX)[:,1]\n",
    "    else:\n",
    "        pred_probY = myclassifier.decision_function(testX)\n",
    "\n",
    "    fpr, tpr, th1 = roc_curve(test_y, pred_probY, pos_label=1)\n",
    "    precision, recall, th2 = precision_recall_curve(test_y, pred_probY, pos_label=1)\n",
    "\n",
    "    if print_result == True:\n",
    "        print(classification_report(test_y, predY))\n",
    "        print(\"AUC : %.2f%% PRC : %.2f%%\" %(auc(fpr, tpr) * 100, auc(recall, precision) * 100))\n",
    "        \n",
    "        plt.figure(figsize=(30,20))\n",
    "        \n",
    "        auc_fig = plt.subplot(5,5,1)\n",
    "        auc_fig.plot(fpr, tpr, color='orange')\n",
    "        auc_fig.plot([0, 1], [0, 1], color='blue', linestyle='--')\n",
    "        auc_fig.set_xlim([0,1])\n",
    "        auc_fig.set_ylim([0,1.05])\n",
    "        plt.xlabel('False Positive Rate')\n",
    "        plt.ylabel('True Positive Rate')\n",
    "        plt.title('%s-AUC'%model_type)\n",
    "\n",
    "        prc_fig = plt.subplot(5,5,2)\n",
    "        prc_fig.plot(recall, precision, color='orange')\n",
    "        prc_fig.set_xlim([0,1])\n",
    "        prc_fig.set_ylim([0,1.05])\n",
    "        plt.xlabel('Recall')\n",
    "        plt.ylabel('Precision')\n",
    "        plt.title('%s-PRC'%model_type)\n",
    "\n",
    "        plt.show()\n",
    "    \n",
    "\n",
    "    return auc(fpr, tpr)*100, auc(recall, precision)*100\n",
    "\n"
   ]
  },
  {
   "cell_type": "code",
   "execution_count": 3,
   "metadata": {},
   "outputs": [
    {
     "name": "stdout",
     "output_type": "stream",
     "text": [
      "              precision    recall  f1-score   support\n",
      "\n",
      "           0       0.84      0.82      0.83       509\n",
      "           1       0.82      0.84      0.83       491\n",
      "\n",
      "    accuracy                           0.83      1000\n",
      "   macro avg       0.83      0.83      0.83      1000\n",
      "weighted avg       0.83      0.83      0.83      1000\n",
      "\n",
      "AUC : 91.50% PRC : 91.59%\n"
     ]
    },
    {
     "data": {
      "image/png": "[encoded data removed]",
      "text/plain": [
       "<Figure size 2160x1440 with 2 Axes>"
      ]
     },
     "metadata": {
      "needs_background": "light"
     },
     "output_type": "display_data"
    }
   ],
   "source": [
    "# Test the function with 'svm'\n",
    "\n",
    "auc_score, prc_score = create_model(train[\"text\"], train[\"label\"], test[\"text\"], test[\"label\"], model_type='svm', stop_words = 'english', min_df = 1, print_result=True, algorithm_para=1.0)"
   ]
  },
  {
   "cell_type": "code",
   "execution_count": 4,
   "metadata": {},
   "outputs": [
    {
     "name": "stdout",
     "output_type": "stream",
     "text": [
      "              precision    recall  f1-score   support\n",
      "\n",
      "           0       0.82      0.77      0.80       509\n",
      "           1       0.78      0.83      0.80       491\n",
      "\n",
      "    accuracy                           0.80      1000\n",
      "   macro avg       0.80      0.80      0.80      1000\n",
      "weighted avg       0.80      0.80      0.80      1000\n",
      "\n",
      "AUC : 88.87% PRC : 89.49%\n"
     ]
    },
    {
     "data": {
      "image/png": "[encoded data removed]",
      "text/plain": [
       "<Figure size 2160x1440 with 2 Axes>"
      ]
     },
     "metadata": {
      "needs_background": "light"
     },
     "output_type": "display_data"
    }
   ],
   "source": [
    "# Test the function with 'nb' \n",
    "\n",
    "auc_score, prc_score = create_model(train[\"text\"], train[\"label\"], test[\"text\"], test[\"label\"], model_type='nb', stop_words = 'english', min_df = 1, print_result=True, algorithm_para=1.0)"
   ]
  },
  {
   "cell_type": "markdown",
   "metadata": {},
   "source": [
    "### Task 2: Search for best parameters \n",
    "\n",
    "From Task 1, you may find there are many possible ways to configure parameters. Next, let's use grid search to find the optimal parameters\n",
    "\n",
    "- Define a function `search_para(docs, y)` where `docs` are training documents and `y` is the ground-truth labels.\n",
    "- This function does the following:\n",
    "    - Create a pipleline which integrates `TfidfVectorizer` and `SVM` classifier \n",
    "    - Define the parameter ranges as follow:\n",
    "        - `stop_words': [None, 'english']`\n",
    "        - `min_df: [1,2,5]`\n",
    "        - `C: [0.2,0.5,0.8]`\n",
    "    - Set the scoring metric to \"f1_macro\"\n",
    "    - Use `GridSearchCV` with `5-fold cross validation` to find the best parameter values based on the training dataset. \n",
    "    - Print the best parameter values\n",
    "    \n",
    "- Call the function `svm_model` defined in Task 1 `with the best parameter values`. You will have to add the best C value to the original function, because you used default settings of the SVM classifier previously. Then please briefly answer the following:\n",
    "    - Compare with the model in Task 1, how is the performance improved on the test dataset?\n",
    "    - Why do you think the new parameter values help sentiment classification?"
   ]
  },
  {
   "cell_type": "code",
   "execution_count": 5,
   "metadata": {},
   "outputs": [],
   "source": [
    "# Define grade search function\n",
    "\n",
    "def search_para(docs, y):\n",
    "    \n",
    "    # Add your code here\n",
    "    pipeline = Pipeline([('vectorizer',TfidfVectorizer()), ('svc', svm.LinearSVC())])\n",
    "\n",
    "    stopWords = stopwords.words('english')\n",
    "    stopWords.remove('not')\n",
    "\n",
    "    grid_paras = {\n",
    "        \"vectorizer__stop_words\": [None, 'english'],\n",
    "        \"vectorizer__min_df\": [1, 2, 5],\n",
    "        \"svc__C\": [0.2, 0.4, 0.8]\n",
    "    }\n",
    "    clf_C = GridSearchCV(pipeline, param_grid=grid_paras, scoring='f1_macro', cv=5)\n",
    "    clf_C.fit(docs, y)\n",
    "\n",
    "    return clf_C\n"
   ]
  },
  {
   "cell_type": "code",
   "execution_count": 6,
   "metadata": {},
   "outputs": [],
   "source": [
    "clf_C = search_para(train[\"text\"], train[\"label\"])"
   ]
  },
  {
   "cell_type": "code",
   "execution_count": 7,
   "metadata": {},
   "outputs": [
    {
     "name": "stdout",
     "output_type": "stream",
     "text": [
      "svc__C : 0.4\n",
      "vectorizer__min_df : 2\n",
      "vectorizer__stop_words : None\n"
     ]
    }
   ],
   "source": [
    "for k,v in clf_C.best_params_.items():\n",
    "    print(f\"{k} : {v}\")"
   ]
  },
  {
   "cell_type": "code",
   "execution_count": 8,
   "metadata": {},
   "outputs": [
    {
     "name": "stdout",
     "output_type": "stream",
     "text": [
      "              precision    recall  f1-score   support\n",
      "\n",
      "           0       0.84      0.86      0.85       509\n",
      "           1       0.85      0.84      0.84       491\n",
      "\n",
      "    accuracy                           0.85      1000\n",
      "   macro avg       0.85      0.85      0.85      1000\n",
      "weighted avg       0.85      0.85      0.85      1000\n",
      "\n",
      "AUC : 92.35% PRC : 92.08%\n"
     ]
    },
    {
     "data": {
      "image/png": "[encoded data removed]",
      "text/plain": [
       "<Figure size 2160x1440 with 2 Axes>"
      ]
     },
     "metadata": {
      "needs_background": "light"
     },
     "output_type": "display_data"
    }
   ],
   "source": [
    "# call the function with the best parameters\n",
    "\n",
    "auc_score, prc_score = create_model(train[\"text\"], train[\"label\"], test[\"text\"], test[\"label\"], model_type='svm', stop_words = None, min_df = 2, print_result=True, algorithm_para=0.4)\n",
    "\n",
    "# Please answer the questions\n",
    "# We notice here that the difference between the AUC and PRC values is negligible"
   ]
  },
  {
   "cell_type": "markdown",
   "metadata": {},
   "source": [
    "## Task 3. How many samples are enough? \n",
    "\n",
    "This task is to help you understand the impact of sample size on classifier performance. \n",
    "\n",
    "- Define a function `sample_size_impact(train_docs, train_y, test_docs, test_y)` with the input as defined above. \n",
    "    \n",
    "    \n",
    "- This function does the following:\n",
    "    - Starting with 500 samples, in each round you build a classifier with 500 more samples. i.e. in round 1, you use samples from 0:500, and in round 2, you use samples from 0:1000, …, until you use all samples. \n",
    "    - In each round, call the `create_model` function with `model_type='svm'` and then `model_type='nb'`. Keep other parameters as default. Record the AUC score of each model type and the sample size.\n",
    "    - For each model type, plot a line chart show the relationship between sample size and the AUC score. \n",
    "    - This function has no return.\n",
    "    \n",
    "    \n",
    "- Write your analysis on the following:\n",
    "    - How sample size affects each classifier’s performance? \n",
    "    - If it is expensive to collect and label samples, can you decide an optimal sample size with model performance and the cost of samples both considered? \n",
    "    - How is performance of SVM classifier compared with Naïve Bayes classifier?"
   ]
  },
  {
   "cell_type": "code",
   "execution_count": 9,
   "metadata": {},
   "outputs": [],
   "source": [
    "# Show the impact of sample size\n",
    "\n",
    "def sample_size_impact(train_docs, train_y, test_docs, test_y):  \n",
    "    \n",
    "    \n",
    "    # add your code here\n",
    "    counter = 500\n",
    "    xValues = []\n",
    "    y_nb_values = []\n",
    "    y_svm_values =[]\n",
    "    while counter<= len(train_docs):\n",
    "        xValues.append(counter)\n",
    "        nb_auc_score, _ = create_model(train_docs[:counter], train_y[:counter], test_docs, test_y, model_type='nb', stop_words = 'english', min_df = 1, print_result=False, algorithm_para=1.0)\n",
    "        svm_auc_score, _ = create_model(train_docs[:counter], train_y[:counter], test_docs, test_y, model_type='svm', stop_words = 'english', min_df = 1, print_result=False, algorithm_para=1.0)\n",
    "        y_nb_values.append(nb_auc_score)\n",
    "        y_svm_values.append(svm_auc_score)\n",
    "        counter += 500\n",
    "\n",
    "    plt.plot(xValues, y_svm_values, label='SVM', color='orange')\n",
    "    plt.plot(xValues, y_nb_values, label='NB', color='blue')\n",
    "    plt.legend(loc='best')\n",
    "    plt.show()"
   ]
  },
  {
   "cell_type": "code",
   "execution_count": 10,
   "metadata": {},
   "outputs": [
    {
     "data": {
      "image/png": "[encoded data removed]",
      "text/plain": [
       "<Figure size 432x288 with 1 Axes>"
      ]
     },
     "metadata": {
      "needs_background": "light"
     },
     "output_type": "display_data"
    }
   ],
   "source": [
    "# Test the function\n",
    "\n",
    "sample_size_impact(train[\"text\"], train[\"label\"], test[\"text\"], test[\"label\"])"
   ]
  },
  {
   "cell_type": "markdown",
   "metadata": {},
   "source": [
    "## Task 4 (Bonus): How to improve sentiment classification?\n",
    "\n",
    "- Can you tune other parameters of TfidfVectorizer or SVM model to further improve the classification performance? Try to beat the model you get in Task 2!"
   ]
  }
 ],
 "metadata": {
  "kernelspec": {
   "display_name": "Python 3",
   "language": "python",
   "name": "python3"
  },
  "language_info": {
   "codemirror_mode": {
    "name": "ipython",
    "version": 3
   },
   "file_extension": ".py",
   "mimetype": "text/x-python",
   "name": "python",
   "nbconvert_exporter": "python",
   "pygments_lexer": "ipython3",
   "version": "3.8.10"
  }
 },
 "nbformat": 4,
 "nbformat_minor": 2
}
