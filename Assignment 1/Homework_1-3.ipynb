{
 "cells": [
  {
   "cell_type": "markdown",
   "source": [
    "## <h1><center>Assignment 1</center></h1>\n",
    "\n",
    "Instructions:\n",
    "\n",
    "- Please read the problem description carefully\n",
    "- Make sure to complete all requirement (shown as bullets) . In general, it would be much easier if you complete the requirements in the order as shown in the problem description\n"
   ],
   "metadata": {}
  },
  {
   "cell_type": "markdown",
   "source": [
    "## Q1. Define a function to analyze the frequency of words in a string (3 points)\n",
    " - Define a function which does the following:\n",
    "     * has a string as an input\n",
    "     * splits the string into a list of tokens by space. \n",
    "         - e.g., \"it's a hello world!!!\" will be split into two tokens [\"it's\", \"a\",\"hello\",\"world!!!\"]   \n",
    "     * if a token starts with or ends with one or more punctuations, remove these punctuations, e.g. \"world<font color=\"red\">!!!</font>\" -> \"world\".(<font color=\"blue\">hint, you can import module *string*, use *string.punctuation* to get a list of punctuations (say *puncts*), and then use function *strip(puncts)* to remove leading or trailing punctuations </font>) \n",
    "     * remove the space surrounding each token\n",
    "     * only keep tokens with 2 or more characters, i.e. *len*(token)>1 \n",
    "     * converts all tokens into lower case \n",
    "     * create a dictionary to save the count of each uninque word \n",
    "     * sort the dictionary by word count in descending order\n",
    "     * return the sorted dictionary \n",
    "    "
   ],
   "metadata": {}
  },
  {
   "cell_type": "code",
   "execution_count": 383,
   "source": [
    "import string"
   ],
   "outputs": [],
   "metadata": {}
  },
  {
   "cell_type": "code",
   "execution_count": 384,
   "source": [
    "def text_analyzer_q1(text):\r\n",
    "    cleaned_tokens = []\r\n",
    "    count_dict = {}\r\n",
    "\r\n",
    "    cleaned_tokens = [token.lower().strip(string.punctuation) for token in text.split() if len (token) > 1]\r\n",
    "    \r\n",
    "    count_dict = {key:cleaned_tokens.count(key) for key in cleaned_tokens}\r\n",
    "\r\n",
    "    sorted_dict = dict(sorted(count_dict.items(), key=lambda a: a[1], reverse=True))\r\n",
    "    return sorted_dict\r\n"
   ],
   "outputs": [],
   "metadata": {}
  },
  {
   "cell_type": "code",
   "execution_count": 385,
   "source": [
    "# test your code\r\n",
    "text = '''People with moderately to severely compromised immune systems are especially vulnerable to COVID-19, \r\n",
    "    and may not build the same level of immunity to 2-dose vaccine series compared to people \r\n",
    "    who are not immunocompromised. This additional dose intended to improve immunocompromised \r\n",
    "    people’s response to their initial vaccine series. CDC recommends that people with moderately to \r\n",
    "    severely compromised immune systems receive an additional dose '''\r\n",
    "\r\n",
    "text_analyzer_q1(text)"
   ],
   "outputs": [
    {
     "output_type": "execute_result",
     "data": {
      "text/plain": [
       "{'to': 7,\n",
       " 'people': 3,\n",
       " 'with': 2,\n",
       " 'moderately': 2,\n",
       " 'severely': 2,\n",
       " 'compromised': 2,\n",
       " 'immune': 2,\n",
       " 'systems': 2,\n",
       " 'are': 2,\n",
       " 'not': 2,\n",
       " 'vaccine': 2,\n",
       " 'series': 2,\n",
       " 'immunocompromised': 2,\n",
       " 'additional': 2,\n",
       " 'dose': 2,\n",
       " 'especially': 1,\n",
       " 'vulnerable': 1,\n",
       " 'covid-19': 1,\n",
       " 'and': 1,\n",
       " 'may': 1,\n",
       " 'build': 1,\n",
       " 'the': 1,\n",
       " 'same': 1,\n",
       " 'level': 1,\n",
       " 'of': 1,\n",
       " 'immunity': 1,\n",
       " '2-dose': 1,\n",
       " 'compared': 1,\n",
       " 'who': 1,\n",
       " 'this': 1,\n",
       " 'intended': 1,\n",
       " 'improve': 1,\n",
       " 'people’s': 1,\n",
       " 'response': 1,\n",
       " 'their': 1,\n",
       " 'initial': 1,\n",
       " 'cdc': 1,\n",
       " 'recommends': 1,\n",
       " 'that': 1,\n",
       " 'receive': 1,\n",
       " 'an': 1}"
      ]
     },
     "metadata": {},
     "execution_count": 385
    }
   ],
   "metadata": {}
  },
  {
   "cell_type": "markdown",
   "source": [
    "## Q2. Define a function to analyze a numpy array (4 points)\n",
    " - Assume we have an array $X$ which contains term frequency of each document. In this array, each row presents a document, each column denotes a word, and each value, say $x_{i,j}$,  denotes the frequency of the word $j$ in document $i$. Therefore, if there are  $m$ documents, $n$ words, $X$ has a shape of $(m, n)$.\n",
    " \n",
    " Define a function which:\n",
    "      * Take $X$ as an input.\n",
    "      * Divides word frequency $x_{i,j}$ by the total number of words in document $i$. Save the result as an array named $tf$ ($tf$ has shape of $(m,n)$).\n",
    "      * Calculate the document frequency $df_j$ for word $j$, e.g. how many documents contain word $j$. Save the result to array $df$ ($df$ has shape of $(n,)$).\n",
    "      * Calculate $idf_j =  ln(\\frac{|m|}{df_j})+1$. m is the number of documents. The reason is, if a word appears in most documents, it does not have the discriminative power and often is called a `stop` word. The inverse of $df$ can downgrade the weight of such words. ($idf_j$ has shape of $(n,)$).\n",
    "      * For each $x_{i,j}$, calculates $tf\\_idf_{i,j} = tf_(i,j) * idf_j$. ($tf\\_idf$ has shape of $(m,n)$).\n",
    "      * Now, please print the following:\n",
    "          * print the index of the longest document\n",
    "          * print the indexes of words with the top 3 largest $df$ values\n",
    "          * for the longest document, print the indexes of words with top 3 largest values in the $tf\\_idf$ array (use the index you got previously). \n",
    "      * Return the $tf\\_idf$ array.\n",
    " - Note, for all the steps, **do not use any loop**. Just use array functions and broadcasting for high performance computation."
   ],
   "metadata": {}
  },
  {
   "cell_type": "code",
   "execution_count": 386,
   "source": [
    "import numpy as np\r\n",
    "import pandas as pd"
   ],
   "outputs": [],
   "metadata": {}
  },
  {
   "cell_type": "code",
   "execution_count": 387,
   "source": [
    "def text_analyzer_q2(X):\r\n",
    "    X_binarised = np.where(X>0, True, False)\r\n",
    "    word_count = np.sum(X_binarised, axis=1)\r\n",
    "\r\n",
    "    tf = np.divide(X, word_count.reshape(3,1))\r\n",
    "    \r\n",
    "    df = np.sum(X_binarised, axis=0)\r\n",
    "    \r\n",
    "    idf = np.log(len(X)/df) + 1\r\n",
    "    \r\n",
    "    tf_idf = tf * idf\r\n",
    "   \r\n",
    "    print(f\"Index of the longest document: {np.argmax(word_count)}\")\r\n",
    "    \r\n",
    "    print(f\"Indices of the words with top 3 df values: {df.argsort()[-3:][::-1]}\")\r\n",
    "    \r\n",
    "    print(f\"Indices of the words with top 3 tf_idf values in the longest document: {tf_idf[np.argmax(word_count)].argsort()[-3:][::-1]}\")\r\n",
    "\r\n",
    "    return tf_idf\r\n",
    "   "
   ],
   "outputs": [],
   "metadata": {}
  },
  {
   "cell_type": "code",
   "execution_count": 388,
   "source": [
    "# dtm.csv is a csv file for test. \r\n",
    "# It contains word counts in a few documents\r\n",
    "dtm = pd.read_csv(\"dtm.csv\")\r\n",
    "text_analyzer_q2(dtm.values)"
   ],
   "outputs": [
    {
     "output_type": "stream",
     "name": "stdout",
     "text": [
      "Index of the longest document: 0\n",
      "Indices of the words with top 3 df values: [ 4  5 15]\n",
      "Indices of the words with top 3 tf_idf values in the longest document: [6 3 2]\n"
     ]
    },
    {
     "output_type": "execute_result",
     "data": {
      "text/plain": [
       "array([[0.29980176, 0.29980176, 0.29980176, 0.29980176, 0.14285714,\n",
       "        0.20078073, 0.29980176, 0.        , 0.        , 0.        ,\n",
       "        0.        , 0.        , 0.        , 0.        , 0.        ,\n",
       "        0.        ],\n",
       "       [0.        , 0.        , 0.        , 0.        , 0.14285714,\n",
       "        0.20078073, 0.        , 0.29980176, 0.29980176, 0.29980176,\n",
       "        0.29980176, 0.29980176, 0.        , 0.        , 0.        ,\n",
       "        0.        ],\n",
       "       [0.        , 0.        , 0.        , 0.        , 0.2       ,\n",
       "        0.        , 0.        , 0.        , 0.        , 0.        ,\n",
       "        0.        , 0.        , 0.41972246, 0.41972246, 0.41972246,\n",
       "        0.41972246]])"
      ]
     },
     "metadata": {},
     "execution_count": 388
    }
   ],
   "metadata": {
    "scrolled": true
   }
  },
  {
   "cell_type": "markdown",
   "source": [
    "## Q3. Define a function to analyze a dataset using pandas (3 points)\n",
    "\n",
    "- The dataset \"emotion.csv\" contains a number of text and ten types of sentiment scores. Define a function named `emotion_analysis` to do the follows:\n",
    "   * Read \"emotion.csv\" as a dataframe with the first row in the csv file as column names\n",
    "   * Count the number of samples labeled for each emotion (i.e. each value in the column \"emotion). Print the counts.\n",
    "   * Add a column \"length\" that calculates the number of words for each text. (hint: \"apply\" function to split the text by space and then count elements in the resulting list)\n",
    "   * Show the min, max, and mean values of sadness, happiness, and text length for each emotion. Print the results.\n",
    "   * Create a cross tabulation of average anxiety scores. Use \"emotion\" as row index, \"worry\" as column index, and \"anxiety\" as values. Print the table.\n",
    " - This function does not have any return. Just print out the result of each calculation step."
   ],
   "metadata": {}
  },
  {
   "cell_type": "code",
   "execution_count": 389,
   "source": [
    "import string\r\n",
    "def emotion_analysis():\r\n",
    "    df = pd.read_csv(\"emotion.csv\")\r\n",
    "    print(df.head(2))\r\n",
    "    \r\n",
    "    print(\"===The number of samples labeled for each emotion===\")\r\n",
    "    print(df.emotion.value_counts())\r\n",
    "\r\n",
    "    df[\"length\"] = df[\"text\"].apply(lambda text : len(text.split()))\r\n",
    "    print(\"*********************Length*********************\")\r\n",
    "\r\n",
    "    print(\"\\n=== min, max, and mean values of sadness, happiness, and text length for each emotion===\")\r\n",
    "    # var = pd.pivot_table(df, index=['emotion'], values = [\"sadness\", 'happiness', 'length'], aggfunc=[np.mean, np.min, np.max])\r\n",
    "    # print(var)\r\n",
    "\r\n",
    "    var = df.groupby([\"emotion\"])[[\"sadness\", 'happiness', 'length']].agg([np.mean, np.amin, np.amax])\r\n",
    "    print(var)\r\n",
    "    \r\n",
    "    print(\"\\n=== Cross tabulation of anxiety score by emotion and worry ===\")\r\n",
    "    cross_tab = pd.crosstab(df.emotion, df.worry, values=df.anxiety, aggfunc=np.mean)\r\n",
    "    print(cross_tab)"
   ],
   "outputs": [],
   "metadata": {}
  },
  {
   "cell_type": "code",
   "execution_count": 390,
   "source": [
    "emotion_analysis()"
   ],
   "outputs": [
    {
     "output_type": "stream",
     "name": "stdout",
     "text": [
      "   worry  emotion  anger  disgust  fear  anxiety  sadness  happiness  \\\n",
      "0      3  Sadness      5        5     3        7        7          2   \n",
      "1      8  Anxiety      6        7     7        8        6          4   \n",
      "\n",
      "   relaxation  desire                                               text  \n",
      "0           4       5  It is less an much an issue of how it affects ...  \n",
      "1           3       1  I am concerned that the true impact of the cur...  \n",
      "===The number of samples labeled for each emotion===\n",
      "Anxiety       1381\n",
      "Sadness        357\n",
      "Relaxation     333\n",
      "Fear           230\n",
      "Anger          107\n",
      "Happiness       39\n",
      "Desire          27\n",
      "Disgust         17\n",
      "Name: emotion, dtype: int64\n",
      "*********************Length*********************\n",
      "\n",
      "=== min, max, and mean values of sadness, happiness, and text length for each emotion===\n",
      "             sadness           happiness                length           \n",
      "                mean amin amax      mean amin amax        mean amin  amax\n",
      "emotion                                                                  \n",
      "Anger       5.672897    1    9  3.177570    1    8  118.897196   85   312\n",
      "Anxiety     5.719768    1    9  3.333816    1    9  117.431571   59   540\n",
      "Desire      4.148148    1    8  4.925926    2    8  150.592593   88  1016\n",
      "Disgust     4.764706    1    8  3.764706    1    6  108.529412   60   158\n",
      "Fear        6.565217    1    9  3.056522    1    9  118.039130   80   319\n",
      "Happiness   2.666667    1    9  7.230769    4    9  121.358974   92   274\n",
      "Relaxation  2.858859    1    9  5.369369    1    9  117.804805    6   297\n",
      "Sadness     7.436975    2    9  3.112045    1    9  120.375350   75   547\n",
      "\n",
      "=== Cross tabulation of anxiety score by emotion and worry ===\n",
      "worry          1         2         3         4         5         6         7  \\\n",
      "emotion                                                                        \n",
      "Anger       5.50  1.250000  3.416667  4.222222  5.125000  5.833333  6.040000   \n",
      "Anxiety     3.00  7.000000  5.222222  5.941176  6.149425  6.938931  7.597166   \n",
      "Desire       NaN  1.000000  3.142857  3.250000  3.666667  6.375000  6.000000   \n",
      "Disgust      NaN  5.000000       NaN  4.500000  5.000000  4.800000  5.750000   \n",
      "Fear         NaN       NaN  6.000000  5.000000  5.714286  5.454545  6.918033   \n",
      "Happiness   1.00  3.000000  2.400000  3.000000  1.000000  2.625000  4.000000   \n",
      "Relaxation  1.25  1.777778  2.301887  3.029851  3.090909  4.137931  4.219512   \n",
      "Sadness     2.50  3.857143  3.368421  4.606061  4.882353  5.325301  6.156863   \n",
      "\n",
      "worry              8         9  \n",
      "emotion                         \n",
      "Anger       7.000000  7.437500  \n",
      "Anxiety     8.220126  8.770186  \n",
      "Desire           NaN       NaN  \n",
      "Disgust          NaN       NaN  \n",
      "Fear        7.643836  8.256757  \n",
      "Happiness   2.000000  6.500000  \n",
      "Relaxation  3.562500  4.200000  \n",
      "Sadness     6.565217  7.258065  \n"
     ]
    }
   ],
   "metadata": {}
  },
  {
   "cell_type": "markdown",
   "source": [
    "### Bonus question (3 points)\r\n",
    "1. Suppose your machine learning model returns a list of probabilities as the output. Write a function to do the following:\r\n",
    "    - Given a threshold, say $th$, if a probability > $th$, the prediction is positive; otherwise, negative\r\n",
    "    - Compare the prediction with the ground truth labels to calculate the confusion matrix as [[TN, FN],[FP,TP]], where:\r\n",
    "        * True Positives (TP): the number of correct positive predictions\r\n",
    "        * False Positives (FP): the number of postive predictives which actually are negatives\r\n",
    "        * True Negatives (TN): the number of correct negative predictions\r\n",
    "        * False Negatives (FN): the number of negative predictives which actually are positives\r\n",
    "    - Calculate **precision** as $TP/(TP+FP)$ and **recall** as $TP/(TP+FN)$\r\n",
    "    - return precision and recall. \r\n",
    "2. Call this function with $th$ varying from 0.05 to 0.95 with an increase of 0.05. Plot a line chart to see how precision and recall change by $th$"
   ],
   "metadata": {}
  },
  {
   "cell_type": "code",
   "execution_count": 391,
   "source": [
    "prob =np.array([0.28997326, 0.10166073, 0.10759583, 0.0694934 , 0.6767239 ,\r\n",
    "       0.01446897, 0.15268748, 0.15570522, 0.12159665, 0.22593857,\r\n",
    "       0.98162019, 0.47418329, 0.09376987, 0.80440782, 0.88361167,\r\n",
    "       0.21579844, 0.72343069, 0.06605903, 0.15447797, 0.10967575,\r\n",
    "       0.93020135, 0.06570391, 0.05283854, 0.09668829, 0.05974545,\r\n",
    "       0.04874688, 0.07562255, 0.11103822, 0.71674525, 0.08507381,\r\n",
    "       0.630128  , 0.16447478, 0.16914903, 0.1715767 , 0.08040751,\r\n",
    "       0.7001173 , 0.04428363, 0.19469664, 0.12247959, 0.14000294,\r\n",
    "       0.02411263, 0.26276603, 0.11377073, 0.07055441, 0.2021157 ,\r\n",
    "       0.11636899, 0.90348488, 0.10191679, 0.88744523, 0.18938904])\r\n",
    "\r\n",
    "truth = np.array([1, 0, 0, 0, 1, 0, 0, 0, 0, 0, 1, 1, 0, 1, 1, 0, 1, 0, 0, 0, 1, 0,\r\n",
    "       0, 0, 0, 0, 0, 0, 1, 0, 1, 0, 0, 0, 0, 0, 0, 0, 0, 0, 0, 0, 0, 0,\r\n",
    "       0, 0, 1, 0, 1, 0])"
   ],
   "outputs": [],
   "metadata": {}
  },
  {
   "cell_type": "code",
   "execution_count": 392,
   "source": [
    "def evaluate_performance(prob, truth, th):\r\n",
    "    conf = [[0,0], [0,0]]\r\n",
    "\r\n",
    "    precision = np.zeros(np.size(th),)\r\n",
    "    recall = np.zeros(np.size(th),)\r\n",
    "\r\n",
    "    for i, val in enumerate(th):\r\n",
    "        pred = prob > val\r\n",
    "\r\n",
    "        tp = truth.dot(pred.T.astype(\"int\"))\r\n",
    "        fp = (1-truth).dot(pred.T.astype(\"int\"))\r\n",
    "        fn = truth.dot((1-pred).T.astype(\"int\"))\r\n",
    "        tn = (1-truth).dot((1-pred).T.astype(\"int\"))\r\n",
    "\r\n",
    "        conf[0][0] = tp\r\n",
    "        conf[0][1] = fp\r\n",
    "        conf[1][0] = fn\r\n",
    "        conf[1][1] = tn\r\n",
    "\r\n",
    "        precision[i] = tp / (tp + fp)\r\n",
    "        recall[i] = tp / (tp + fn)\r\n",
    "\r\n",
    "    # Plotting\r\n",
    "    df_dict = {'prec': precision, 'rec': recall}\r\n",
    "    df = pd.DataFrame(df_dict, index = th)\r\n",
    "    print(df)\r\n",
    "    df.plot.line()\r\n",
    "    return"
   ],
   "outputs": [],
   "metadata": {}
  },
  {
   "cell_type": "code",
   "execution_count": 393,
   "source": [
    "# Test with threhold 0.5\r\n",
    "evaluate_performance(prob, truth, th = np.arange(0.05, 1.00, 0.05))"
   ],
   "outputs": [
    {
     "output_type": "stream",
     "name": "stdout",
     "text": [
      "          prec       rec\n",
      "0.05  0.260870  1.000000\n",
      "0.10  0.342857  1.000000\n",
      "0.15  0.480000  1.000000\n",
      "0.20  0.705882  1.000000\n",
      "0.25  0.857143  1.000000\n",
      "0.30  0.916667  0.916667\n",
      "0.35  0.916667  0.916667\n",
      "0.40  0.916667  0.916667\n",
      "0.45  0.916667  0.916667\n",
      "0.50  0.909091  0.833333\n",
      "0.55  0.909091  0.833333\n",
      "0.60  0.909091  0.833333\n",
      "0.65  0.900000  0.750000\n",
      "0.70  0.888889  0.666667\n",
      "0.75  1.000000  0.500000\n",
      "0.80  1.000000  0.500000\n",
      "0.85  1.000000  0.416667\n",
      "0.90  1.000000  0.250000\n",
      "0.95  1.000000  0.083333\n"
     ]
    },
    {
     "output_type": "display_data",
     "data": {
      "image/png": "[encoded data removed]",
      "text/plain": [
       "<Figure size 432x288 with 1 Axes>"
      ]
     },
     "metadata": {
      "needs_background": "light"
     }
    }
   ],
   "metadata": {}
  },
  {
   "cell_type": "code",
   "execution_count": null,
   "source": [],
   "outputs": [],
   "metadata": {}
  }
 ],
 "metadata": {
  "interpreter": {
   "hash": "b3ba2566441a7c06988d0923437866b63cedc61552a5af99d1f4fb67d367b25f"
  },
  "kernelspec": {
   "display_name": "Python 3",
   "language": "python",
   "name": "python3"
  },
  "language_info": {
   "codemirror_mode": {
    "name": "ipython",
    "version": 3
   },
   "file_extension": ".py",
   "mimetype": "text/x-python",
   "name": "python",
   "nbconvert_exporter": "python",
   "pygments_lexer": "ipython3",
   "version": "3.8.8"
  }
 },
 "nbformat": 4,
 "nbformat_minor": 4
}